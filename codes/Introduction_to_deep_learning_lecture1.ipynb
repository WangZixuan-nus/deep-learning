!nvidia-smi
!pip install d2l==1.0.3
import torch # Chapter 5
from d2l import torch as d2l
trainer = d2l.Trainer(max_epochs=10, num_gpus=1)
data = d2l.FashionMNIST(batch_size=128)
model = d2l.LeNet(lr = 0.1)
model.apply_init([next(iter(data.get_dataloader(True)))[0]], d2l.init_cnn)
trainer.fit(model, data)
